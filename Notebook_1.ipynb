{
  "nbformat": 4,
  "nbformat_minor": 0,
  "metadata": {
    "colab": {
      "name": "Notebook 1.ipynb",
      "version": "0.3.2",
      "provenance": [],
      "include_colab_link": true
    },
    "kernelspec": {
      "name": "python3",
      "display_name": "Python 3"
    }
  },
  "cells": [
    {
      "cell_type": "markdown",
      "metadata": {
        "id": "view-in-github",
        "colab_type": "text"
      },
      "source": [
        "<a href=\"https://colab.research.google.com/github/Nolanole/Tanzania-Well-Water-Project/blob/master/Notebook_1.ipynb\" target=\"_parent\"><img src=\"https://colab.research.google.com/assets/colab-badge.svg\" alt=\"Open In Colab\"/></a>"
      ]
    },
    {
      "cell_type": "code",
      "metadata": {
        "id": "i_-OY2kTWc_i",
        "colab_type": "code",
        "colab": {}
      },
      "source": [
        "!pip install category_encoders"
      ],
      "execution_count": 0,
      "outputs": []
    },
    {
      "cell_type": "code",
      "metadata": {
        "id": "F79V8eEJOPuj",
        "colab_type": "code",
        "colab": {}
      },
      "source": [
        "import pandas as pd\n",
        "import numpy as np\n",
        "from matplotlib import pyplot as plt\n",
        "import seaborn as sns\n",
        "import category_encoders as ce\n",
        "\n",
        "pd.set_option('display.max_rows', 500)\n",
        "pd.set_option('display.max_columns', 500)\n",
        "pd.set_option('display.width', 1000)"
      ],
      "execution_count": 0,
      "outputs": []
    },
    {
      "cell_type": "code",
      "metadata": {
        "id": "iaQI9KmGNA-7",
        "colab_type": "code",
        "colab": {}
      },
      "source": [
        "#Files\n",
        "\n",
        "train_features_url = 'https://raw.githubusercontent.com/Nolanole/Tanzania-Well-Water-Project/master/train_features.csv'\n",
        "test_features_url = 'https://raw.githubusercontent.com/Nolanole/Tanzania-Well-Water-Project/master/test_features.csv'\n",
        "train_labels_url = 'https://raw.githubusercontent.com/Nolanole/Tanzania-Well-Water-Project/master/train_labels.csv'\n",
        "sample_submission_url = 'https://raw.githubusercontent.com/Nolanole/Tanzania-Well-Water-Project/master/sample_submission.csv'"
      ],
      "execution_count": 0,
      "outputs": []
    },
    {
      "cell_type": "code",
      "metadata": {
        "id": "PMzja0FVN6Fe",
        "colab_type": "code",
        "colab": {}
      },
      "source": [
        "#initial dataframes:\n",
        "\n",
        "train = pd.read_csv(train_features_url)\n",
        "test = pd.read_csv(test_features_url)\n",
        "train_target = pd.read_csv(train_labels_url)\n",
        "\n",
        "#merge train and target:\n",
        "train = train.merge(train_target)"
      ],
      "execution_count": 0,
      "outputs": []
    },
    {
      "cell_type": "markdown",
      "metadata": {
        "id": "uoEt6feeOmWL",
        "colab_type": "text"
      },
      "source": [
        "##Initial Data Exploration"
      ]
    },
    {
      "cell_type": "code",
      "metadata": {
        "id": "XP-YRD15OZxH",
        "colab_type": "code",
        "colab": {
          "base_uri": "https://localhost:8080/",
          "height": 35
        },
        "outputId": "d836d357-5b02-4676-8999-1421c2eaf9bc"
      },
      "source": [
        "train.shape, test.shape, train_target.shape"
      ],
      "execution_count": 5,
      "outputs": [
        {
          "output_type": "execute_result",
          "data": {
            "text/plain": [
              "((59400, 41), (14358, 40), (59400, 2))"
            ]
          },
          "metadata": {
            "tags": []
          },
          "execution_count": 5
        }
      ]
    },
    {
      "cell_type": "code",
      "metadata": {
        "id": "jQwfJl8lOcyb",
        "colab_type": "code",
        "colab": {
          "base_uri": "https://localhost:8080/",
          "height": 1278
        },
        "outputId": "723a22a5-2795-4d2b-a3ba-e0ade10be344"
      },
      "source": [
        "train.head().T"
      ],
      "execution_count": 6,
      "outputs": [
        {
          "output_type": "execute_result",
          "data": {
            "text/html": [
              "<div>\n",
              "<style scoped>\n",
              "    .dataframe tbody tr th:only-of-type {\n",
              "        vertical-align: middle;\n",
              "    }\n",
              "\n",
              "    .dataframe tbody tr th {\n",
              "        vertical-align: top;\n",
              "    }\n",
              "\n",
              "    .dataframe thead th {\n",
              "        text-align: right;\n",
              "    }\n",
              "</style>\n",
              "<table border=\"1\" class=\"dataframe\">\n",
              "  <thead>\n",
              "    <tr style=\"text-align: right;\">\n",
              "      <th></th>\n",
              "      <th>0</th>\n",
              "      <th>1</th>\n",
              "      <th>2</th>\n",
              "      <th>3</th>\n",
              "      <th>4</th>\n",
              "    </tr>\n",
              "  </thead>\n",
              "  <tbody>\n",
              "    <tr>\n",
              "      <th>id</th>\n",
              "      <td>69572</td>\n",
              "      <td>8776</td>\n",
              "      <td>34310</td>\n",
              "      <td>67743</td>\n",
              "      <td>19728</td>\n",
              "    </tr>\n",
              "    <tr>\n",
              "      <th>amount_tsh</th>\n",
              "      <td>6000</td>\n",
              "      <td>0</td>\n",
              "      <td>25</td>\n",
              "      <td>0</td>\n",
              "      <td>0</td>\n",
              "    </tr>\n",
              "    <tr>\n",
              "      <th>date_recorded</th>\n",
              "      <td>2011-03-14</td>\n",
              "      <td>2013-03-06</td>\n",
              "      <td>2013-02-25</td>\n",
              "      <td>2013-01-28</td>\n",
              "      <td>2011-07-13</td>\n",
              "    </tr>\n",
              "    <tr>\n",
              "      <th>funder</th>\n",
              "      <td>Roman</td>\n",
              "      <td>Grumeti</td>\n",
              "      <td>Lottery Club</td>\n",
              "      <td>Unicef</td>\n",
              "      <td>Action In A</td>\n",
              "    </tr>\n",
              "    <tr>\n",
              "      <th>gps_height</th>\n",
              "      <td>1390</td>\n",
              "      <td>1399</td>\n",
              "      <td>686</td>\n",
              "      <td>263</td>\n",
              "      <td>0</td>\n",
              "    </tr>\n",
              "    <tr>\n",
              "      <th>installer</th>\n",
              "      <td>Roman</td>\n",
              "      <td>GRUMETI</td>\n",
              "      <td>World vision</td>\n",
              "      <td>UNICEF</td>\n",
              "      <td>Artisan</td>\n",
              "    </tr>\n",
              "    <tr>\n",
              "      <th>longitude</th>\n",
              "      <td>34.9381</td>\n",
              "      <td>34.6988</td>\n",
              "      <td>37.4607</td>\n",
              "      <td>38.4862</td>\n",
              "      <td>31.1308</td>\n",
              "    </tr>\n",
              "    <tr>\n",
              "      <th>latitude</th>\n",
              "      <td>-9.85632</td>\n",
              "      <td>-2.14747</td>\n",
              "      <td>-3.82133</td>\n",
              "      <td>-11.1553</td>\n",
              "      <td>-1.82536</td>\n",
              "    </tr>\n",
              "    <tr>\n",
              "      <th>wpt_name</th>\n",
              "      <td>none</td>\n",
              "      <td>Zahanati</td>\n",
              "      <td>Kwa Mahundi</td>\n",
              "      <td>Zahanati Ya Nanyumbu</td>\n",
              "      <td>Shuleni</td>\n",
              "    </tr>\n",
              "    <tr>\n",
              "      <th>num_private</th>\n",
              "      <td>0</td>\n",
              "      <td>0</td>\n",
              "      <td>0</td>\n",
              "      <td>0</td>\n",
              "      <td>0</td>\n",
              "    </tr>\n",
              "    <tr>\n",
              "      <th>basin</th>\n",
              "      <td>Lake Nyasa</td>\n",
              "      <td>Lake Victoria</td>\n",
              "      <td>Pangani</td>\n",
              "      <td>Ruvuma / Southern Coast</td>\n",
              "      <td>Lake Victoria</td>\n",
              "    </tr>\n",
              "    <tr>\n",
              "      <th>subvillage</th>\n",
              "      <td>Mnyusi B</td>\n",
              "      <td>Nyamara</td>\n",
              "      <td>Majengo</td>\n",
              "      <td>Mahakamani</td>\n",
              "      <td>Kyanyamisa</td>\n",
              "    </tr>\n",
              "    <tr>\n",
              "      <th>region</th>\n",
              "      <td>Iringa</td>\n",
              "      <td>Mara</td>\n",
              "      <td>Manyara</td>\n",
              "      <td>Mtwara</td>\n",
              "      <td>Kagera</td>\n",
              "    </tr>\n",
              "    <tr>\n",
              "      <th>region_code</th>\n",
              "      <td>11</td>\n",
              "      <td>20</td>\n",
              "      <td>21</td>\n",
              "      <td>90</td>\n",
              "      <td>18</td>\n",
              "    </tr>\n",
              "    <tr>\n",
              "      <th>district_code</th>\n",
              "      <td>5</td>\n",
              "      <td>2</td>\n",
              "      <td>4</td>\n",
              "      <td>63</td>\n",
              "      <td>1</td>\n",
              "    </tr>\n",
              "    <tr>\n",
              "      <th>lga</th>\n",
              "      <td>Ludewa</td>\n",
              "      <td>Serengeti</td>\n",
              "      <td>Simanjiro</td>\n",
              "      <td>Nanyumbu</td>\n",
              "      <td>Karagwe</td>\n",
              "    </tr>\n",
              "    <tr>\n",
              "      <th>ward</th>\n",
              "      <td>Mundindi</td>\n",
              "      <td>Natta</td>\n",
              "      <td>Ngorika</td>\n",
              "      <td>Nanyumbu</td>\n",
              "      <td>Nyakasimbi</td>\n",
              "    </tr>\n",
              "    <tr>\n",
              "      <th>population</th>\n",
              "      <td>109</td>\n",
              "      <td>280</td>\n",
              "      <td>250</td>\n",
              "      <td>58</td>\n",
              "      <td>0</td>\n",
              "    </tr>\n",
              "    <tr>\n",
              "      <th>public_meeting</th>\n",
              "      <td>True</td>\n",
              "      <td>NaN</td>\n",
              "      <td>True</td>\n",
              "      <td>True</td>\n",
              "      <td>True</td>\n",
              "    </tr>\n",
              "    <tr>\n",
              "      <th>recorded_by</th>\n",
              "      <td>GeoData Consultants Ltd</td>\n",
              "      <td>GeoData Consultants Ltd</td>\n",
              "      <td>GeoData Consultants Ltd</td>\n",
              "      <td>GeoData Consultants Ltd</td>\n",
              "      <td>GeoData Consultants Ltd</td>\n",
              "    </tr>\n",
              "    <tr>\n",
              "      <th>scheme_management</th>\n",
              "      <td>VWC</td>\n",
              "      <td>Other</td>\n",
              "      <td>VWC</td>\n",
              "      <td>VWC</td>\n",
              "      <td>NaN</td>\n",
              "    </tr>\n",
              "    <tr>\n",
              "      <th>scheme_name</th>\n",
              "      <td>Roman</td>\n",
              "      <td>NaN</td>\n",
              "      <td>Nyumba ya mungu pipe scheme</td>\n",
              "      <td>NaN</td>\n",
              "      <td>NaN</td>\n",
              "    </tr>\n",
              "    <tr>\n",
              "      <th>permit</th>\n",
              "      <td>False</td>\n",
              "      <td>True</td>\n",
              "      <td>True</td>\n",
              "      <td>True</td>\n",
              "      <td>True</td>\n",
              "    </tr>\n",
              "    <tr>\n",
              "      <th>construction_year</th>\n",
              "      <td>1999</td>\n",
              "      <td>2010</td>\n",
              "      <td>2009</td>\n",
              "      <td>1986</td>\n",
              "      <td>0</td>\n",
              "    </tr>\n",
              "    <tr>\n",
              "      <th>extraction_type</th>\n",
              "      <td>gravity</td>\n",
              "      <td>gravity</td>\n",
              "      <td>gravity</td>\n",
              "      <td>submersible</td>\n",
              "      <td>gravity</td>\n",
              "    </tr>\n",
              "    <tr>\n",
              "      <th>extraction_type_group</th>\n",
              "      <td>gravity</td>\n",
              "      <td>gravity</td>\n",
              "      <td>gravity</td>\n",
              "      <td>submersible</td>\n",
              "      <td>gravity</td>\n",
              "    </tr>\n",
              "    <tr>\n",
              "      <th>extraction_type_class</th>\n",
              "      <td>gravity</td>\n",
              "      <td>gravity</td>\n",
              "      <td>gravity</td>\n",
              "      <td>submersible</td>\n",
              "      <td>gravity</td>\n",
              "    </tr>\n",
              "    <tr>\n",
              "      <th>management</th>\n",
              "      <td>vwc</td>\n",
              "      <td>wug</td>\n",
              "      <td>vwc</td>\n",
              "      <td>vwc</td>\n",
              "      <td>other</td>\n",
              "    </tr>\n",
              "    <tr>\n",
              "      <th>management_group</th>\n",
              "      <td>user-group</td>\n",
              "      <td>user-group</td>\n",
              "      <td>user-group</td>\n",
              "      <td>user-group</td>\n",
              "      <td>other</td>\n",
              "    </tr>\n",
              "    <tr>\n",
              "      <th>payment</th>\n",
              "      <td>pay annually</td>\n",
              "      <td>never pay</td>\n",
              "      <td>pay per bucket</td>\n",
              "      <td>never pay</td>\n",
              "      <td>never pay</td>\n",
              "    </tr>\n",
              "    <tr>\n",
              "      <th>payment_type</th>\n",
              "      <td>annually</td>\n",
              "      <td>never pay</td>\n",
              "      <td>per bucket</td>\n",
              "      <td>never pay</td>\n",
              "      <td>never pay</td>\n",
              "    </tr>\n",
              "    <tr>\n",
              "      <th>water_quality</th>\n",
              "      <td>soft</td>\n",
              "      <td>soft</td>\n",
              "      <td>soft</td>\n",
              "      <td>soft</td>\n",
              "      <td>soft</td>\n",
              "    </tr>\n",
              "    <tr>\n",
              "      <th>quality_group</th>\n",
              "      <td>good</td>\n",
              "      <td>good</td>\n",
              "      <td>good</td>\n",
              "      <td>good</td>\n",
              "      <td>good</td>\n",
              "    </tr>\n",
              "    <tr>\n",
              "      <th>quantity</th>\n",
              "      <td>enough</td>\n",
              "      <td>insufficient</td>\n",
              "      <td>enough</td>\n",
              "      <td>dry</td>\n",
              "      <td>seasonal</td>\n",
              "    </tr>\n",
              "    <tr>\n",
              "      <th>quantity_group</th>\n",
              "      <td>enough</td>\n",
              "      <td>insufficient</td>\n",
              "      <td>enough</td>\n",
              "      <td>dry</td>\n",
              "      <td>seasonal</td>\n",
              "    </tr>\n",
              "    <tr>\n",
              "      <th>source</th>\n",
              "      <td>spring</td>\n",
              "      <td>rainwater harvesting</td>\n",
              "      <td>dam</td>\n",
              "      <td>machine dbh</td>\n",
              "      <td>rainwater harvesting</td>\n",
              "    </tr>\n",
              "    <tr>\n",
              "      <th>source_type</th>\n",
              "      <td>spring</td>\n",
              "      <td>rainwater harvesting</td>\n",
              "      <td>dam</td>\n",
              "      <td>borehole</td>\n",
              "      <td>rainwater harvesting</td>\n",
              "    </tr>\n",
              "    <tr>\n",
              "      <th>source_class</th>\n",
              "      <td>groundwater</td>\n",
              "      <td>surface</td>\n",
              "      <td>surface</td>\n",
              "      <td>groundwater</td>\n",
              "      <td>surface</td>\n",
              "    </tr>\n",
              "    <tr>\n",
              "      <th>waterpoint_type</th>\n",
              "      <td>communal standpipe</td>\n",
              "      <td>communal standpipe</td>\n",
              "      <td>communal standpipe multiple</td>\n",
              "      <td>communal standpipe multiple</td>\n",
              "      <td>communal standpipe</td>\n",
              "    </tr>\n",
              "    <tr>\n",
              "      <th>waterpoint_type_group</th>\n",
              "      <td>communal standpipe</td>\n",
              "      <td>communal standpipe</td>\n",
              "      <td>communal standpipe</td>\n",
              "      <td>communal standpipe</td>\n",
              "      <td>communal standpipe</td>\n",
              "    </tr>\n",
              "    <tr>\n",
              "      <th>status_group</th>\n",
              "      <td>functional</td>\n",
              "      <td>functional</td>\n",
              "      <td>functional</td>\n",
              "      <td>non functional</td>\n",
              "      <td>functional</td>\n",
              "    </tr>\n",
              "  </tbody>\n",
              "</table>\n",
              "</div>"
            ],
            "text/plain": [
              "                                             0                        1                            2                            3                        4\n",
              "id                                       69572                     8776                        34310                        67743                    19728\n",
              "amount_tsh                                6000                        0                           25                            0                        0\n",
              "date_recorded                       2011-03-14               2013-03-06                   2013-02-25                   2013-01-28               2011-07-13\n",
              "funder                                   Roman                  Grumeti                 Lottery Club                       Unicef              Action In A\n",
              "gps_height                                1390                     1399                          686                          263                        0\n",
              "installer                                Roman                  GRUMETI                 World vision                       UNICEF                  Artisan\n",
              "longitude                              34.9381                  34.6988                      37.4607                      38.4862                  31.1308\n",
              "latitude                              -9.85632                 -2.14747                     -3.82133                     -11.1553                 -1.82536\n",
              "wpt_name                                  none                 Zahanati                  Kwa Mahundi         Zahanati Ya Nanyumbu                  Shuleni\n",
              "num_private                                  0                        0                            0                            0                        0\n",
              "basin                               Lake Nyasa            Lake Victoria                      Pangani      Ruvuma / Southern Coast            Lake Victoria\n",
              "subvillage                            Mnyusi B                  Nyamara                      Majengo                   Mahakamani               Kyanyamisa\n",
              "region                                  Iringa                     Mara                      Manyara                       Mtwara                   Kagera\n",
              "region_code                                 11                       20                           21                           90                       18\n",
              "district_code                                5                        2                            4                           63                        1\n",
              "lga                                     Ludewa                Serengeti                    Simanjiro                     Nanyumbu                  Karagwe\n",
              "ward                                  Mundindi                    Natta                      Ngorika                     Nanyumbu               Nyakasimbi\n",
              "population                                 109                      280                          250                           58                        0\n",
              "public_meeting                            True                      NaN                         True                         True                     True\n",
              "recorded_by            GeoData Consultants Ltd  GeoData Consultants Ltd      GeoData Consultants Ltd      GeoData Consultants Ltd  GeoData Consultants Ltd\n",
              "scheme_management                          VWC                    Other                          VWC                          VWC                      NaN\n",
              "scheme_name                              Roman                      NaN  Nyumba ya mungu pipe scheme                          NaN                      NaN\n",
              "permit                                   False                     True                         True                         True                     True\n",
              "construction_year                         1999                     2010                         2009                         1986                        0\n",
              "extraction_type                        gravity                  gravity                      gravity                  submersible                  gravity\n",
              "extraction_type_group                  gravity                  gravity                      gravity                  submersible                  gravity\n",
              "extraction_type_class                  gravity                  gravity                      gravity                  submersible                  gravity\n",
              "management                                 vwc                      wug                          vwc                          vwc                    other\n",
              "management_group                    user-group               user-group                   user-group                   user-group                    other\n",
              "payment                           pay annually                never pay               pay per bucket                    never pay                never pay\n",
              "payment_type                          annually                never pay                   per bucket                    never pay                never pay\n",
              "water_quality                             soft                     soft                         soft                         soft                     soft\n",
              "quality_group                             good                     good                         good                         good                     good\n",
              "quantity                                enough             insufficient                       enough                          dry                 seasonal\n",
              "quantity_group                          enough             insufficient                       enough                          dry                 seasonal\n",
              "source                                  spring     rainwater harvesting                          dam                  machine dbh     rainwater harvesting\n",
              "source_type                             spring     rainwater harvesting                          dam                     borehole     rainwater harvesting\n",
              "source_class                       groundwater                  surface                      surface                  groundwater                  surface\n",
              "waterpoint_type             communal standpipe       communal standpipe  communal standpipe multiple  communal standpipe multiple       communal standpipe\n",
              "waterpoint_type_group       communal standpipe       communal standpipe           communal standpipe           communal standpipe       communal standpipe\n",
              "status_group                        functional               functional                   functional               non functional               functional"
            ]
          },
          "metadata": {
            "tags": []
          },
          "execution_count": 6
        }
      ]
    },
    {
      "cell_type": "code",
      "metadata": {
        "id": "MoIwtje7OjJH",
        "colab_type": "code",
        "colab": {
          "base_uri": "https://localhost:8080/",
          "height": 781
        },
        "outputId": "35eb78bd-3aba-44b3-d094-22a13a6252cf"
      },
      "source": [
        "train.isna().sum()"
      ],
      "execution_count": 7,
      "outputs": [
        {
          "output_type": "execute_result",
          "data": {
            "text/plain": [
              "id                           0\n",
              "amount_tsh                   0\n",
              "date_recorded                0\n",
              "funder                    3635\n",
              "gps_height                   0\n",
              "installer                 3655\n",
              "longitude                    0\n",
              "latitude                     0\n",
              "wpt_name                     0\n",
              "num_private                  0\n",
              "basin                        0\n",
              "subvillage                 371\n",
              "region                       0\n",
              "region_code                  0\n",
              "district_code                0\n",
              "lga                          0\n",
              "ward                         0\n",
              "population                   0\n",
              "public_meeting            3334\n",
              "recorded_by                  0\n",
              "scheme_management         3877\n",
              "scheme_name              28166\n",
              "permit                    3056\n",
              "construction_year            0\n",
              "extraction_type              0\n",
              "extraction_type_group        0\n",
              "extraction_type_class        0\n",
              "management                   0\n",
              "management_group             0\n",
              "payment                      0\n",
              "payment_type                 0\n",
              "water_quality                0\n",
              "quality_group                0\n",
              "quantity                     0\n",
              "quantity_group               0\n",
              "source                       0\n",
              "source_type                  0\n",
              "source_class                 0\n",
              "waterpoint_type              0\n",
              "waterpoint_type_group        0\n",
              "status_group                 0\n",
              "dtype: int64"
            ]
          },
          "metadata": {
            "tags": []
          },
          "execution_count": 7
        }
      ]
    },
    {
      "cell_type": "code",
      "metadata": {
        "id": "ggyI9O3vPKB2",
        "colab_type": "code",
        "colab": {
          "base_uri": "https://localhost:8080/",
          "height": 348
        },
        "outputId": "dadc4ecf-0e90-4f10-a4ac-65267cb62a4f"
      },
      "source": [
        "train.describe(include='number').T"
      ],
      "execution_count": 8,
      "outputs": [
        {
          "output_type": "execute_result",
          "data": {
            "text/html": [
              "<div>\n",
              "<style scoped>\n",
              "    .dataframe tbody tr th:only-of-type {\n",
              "        vertical-align: middle;\n",
              "    }\n",
              "\n",
              "    .dataframe tbody tr th {\n",
              "        vertical-align: top;\n",
              "    }\n",
              "\n",
              "    .dataframe thead th {\n",
              "        text-align: right;\n",
              "    }\n",
              "</style>\n",
              "<table border=\"1\" class=\"dataframe\">\n",
              "  <thead>\n",
              "    <tr style=\"text-align: right;\">\n",
              "      <th></th>\n",
              "      <th>count</th>\n",
              "      <th>mean</th>\n",
              "      <th>std</th>\n",
              "      <th>min</th>\n",
              "      <th>25%</th>\n",
              "      <th>50%</th>\n",
              "      <th>75%</th>\n",
              "      <th>max</th>\n",
              "    </tr>\n",
              "  </thead>\n",
              "  <tbody>\n",
              "    <tr>\n",
              "      <th>id</th>\n",
              "      <td>59400.0</td>\n",
              "      <td>37115.131768</td>\n",
              "      <td>21453.128371</td>\n",
              "      <td>0.00000</td>\n",
              "      <td>18519.750000</td>\n",
              "      <td>37061.500000</td>\n",
              "      <td>55656.500000</td>\n",
              "      <td>7.424700e+04</td>\n",
              "    </tr>\n",
              "    <tr>\n",
              "      <th>amount_tsh</th>\n",
              "      <td>59400.0</td>\n",
              "      <td>317.650385</td>\n",
              "      <td>2997.574558</td>\n",
              "      <td>0.00000</td>\n",
              "      <td>0.000000</td>\n",
              "      <td>0.000000</td>\n",
              "      <td>20.000000</td>\n",
              "      <td>3.500000e+05</td>\n",
              "    </tr>\n",
              "    <tr>\n",
              "      <th>gps_height</th>\n",
              "      <td>59400.0</td>\n",
              "      <td>668.297239</td>\n",
              "      <td>693.116350</td>\n",
              "      <td>-90.00000</td>\n",
              "      <td>0.000000</td>\n",
              "      <td>369.000000</td>\n",
              "      <td>1319.250000</td>\n",
              "      <td>2.770000e+03</td>\n",
              "    </tr>\n",
              "    <tr>\n",
              "      <th>longitude</th>\n",
              "      <td>59400.0</td>\n",
              "      <td>34.077427</td>\n",
              "      <td>6.567432</td>\n",
              "      <td>0.00000</td>\n",
              "      <td>33.090347</td>\n",
              "      <td>34.908743</td>\n",
              "      <td>37.178387</td>\n",
              "      <td>4.034519e+01</td>\n",
              "    </tr>\n",
              "    <tr>\n",
              "      <th>latitude</th>\n",
              "      <td>59400.0</td>\n",
              "      <td>-5.706033</td>\n",
              "      <td>2.946019</td>\n",
              "      <td>-11.64944</td>\n",
              "      <td>-8.540621</td>\n",
              "      <td>-5.021597</td>\n",
              "      <td>-3.326156</td>\n",
              "      <td>-2.000000e-08</td>\n",
              "    </tr>\n",
              "    <tr>\n",
              "      <th>num_private</th>\n",
              "      <td>59400.0</td>\n",
              "      <td>0.474141</td>\n",
              "      <td>12.236230</td>\n",
              "      <td>0.00000</td>\n",
              "      <td>0.000000</td>\n",
              "      <td>0.000000</td>\n",
              "      <td>0.000000</td>\n",
              "      <td>1.776000e+03</td>\n",
              "    </tr>\n",
              "    <tr>\n",
              "      <th>region_code</th>\n",
              "      <td>59400.0</td>\n",
              "      <td>15.297003</td>\n",
              "      <td>17.587406</td>\n",
              "      <td>1.00000</td>\n",
              "      <td>5.000000</td>\n",
              "      <td>12.000000</td>\n",
              "      <td>17.000000</td>\n",
              "      <td>9.900000e+01</td>\n",
              "    </tr>\n",
              "    <tr>\n",
              "      <th>district_code</th>\n",
              "      <td>59400.0</td>\n",
              "      <td>5.629747</td>\n",
              "      <td>9.633649</td>\n",
              "      <td>0.00000</td>\n",
              "      <td>2.000000</td>\n",
              "      <td>3.000000</td>\n",
              "      <td>5.000000</td>\n",
              "      <td>8.000000e+01</td>\n",
              "    </tr>\n",
              "    <tr>\n",
              "      <th>population</th>\n",
              "      <td>59400.0</td>\n",
              "      <td>179.909983</td>\n",
              "      <td>471.482176</td>\n",
              "      <td>0.00000</td>\n",
              "      <td>0.000000</td>\n",
              "      <td>25.000000</td>\n",
              "      <td>215.000000</td>\n",
              "      <td>3.050000e+04</td>\n",
              "    </tr>\n",
              "    <tr>\n",
              "      <th>construction_year</th>\n",
              "      <td>59400.0</td>\n",
              "      <td>1300.652475</td>\n",
              "      <td>951.620547</td>\n",
              "      <td>0.00000</td>\n",
              "      <td>0.000000</td>\n",
              "      <td>1986.000000</td>\n",
              "      <td>2004.000000</td>\n",
              "      <td>2.013000e+03</td>\n",
              "    </tr>\n",
              "  </tbody>\n",
              "</table>\n",
              "</div>"
            ],
            "text/plain": [
              "                     count          mean           std       min           25%           50%           75%           max\n",
              "id                 59400.0  37115.131768  21453.128371   0.00000  18519.750000  37061.500000  55656.500000  7.424700e+04\n",
              "amount_tsh         59400.0    317.650385   2997.574558   0.00000      0.000000      0.000000     20.000000  3.500000e+05\n",
              "gps_height         59400.0    668.297239    693.116350 -90.00000      0.000000    369.000000   1319.250000  2.770000e+03\n",
              "longitude          59400.0     34.077427      6.567432   0.00000     33.090347     34.908743     37.178387  4.034519e+01\n",
              "latitude           59400.0     -5.706033      2.946019 -11.64944     -8.540621     -5.021597     -3.326156 -2.000000e-08\n",
              "num_private        59400.0      0.474141     12.236230   0.00000      0.000000      0.000000      0.000000  1.776000e+03\n",
              "region_code        59400.0     15.297003     17.587406   1.00000      5.000000     12.000000     17.000000  9.900000e+01\n",
              "district_code      59400.0      5.629747      9.633649   0.00000      2.000000      3.000000      5.000000  8.000000e+01\n",
              "population         59400.0    179.909983    471.482176   0.00000      0.000000     25.000000    215.000000  3.050000e+04\n",
              "construction_year  59400.0   1300.652475    951.620547   0.00000      0.000000   1986.000000   2004.000000  2.013000e+03"
            ]
          },
          "metadata": {
            "tags": []
          },
          "execution_count": 8
        }
      ]
    },
    {
      "cell_type": "code",
      "metadata": {
        "id": "YiPNvFKjPLn-",
        "colab_type": "code",
        "colab": {
          "base_uri": "https://localhost:8080/",
          "height": 978
        },
        "outputId": "1d214f8f-0b55-4f71-972e-de1c4cf4bd9a"
      },
      "source": [
        "train.describe(exclude='number').T"
      ],
      "execution_count": 9,
      "outputs": [
        {
          "output_type": "execute_result",
          "data": {
            "text/html": [
              "<div>\n",
              "<style scoped>\n",
              "    .dataframe tbody tr th:only-of-type {\n",
              "        vertical-align: middle;\n",
              "    }\n",
              "\n",
              "    .dataframe tbody tr th {\n",
              "        vertical-align: top;\n",
              "    }\n",
              "\n",
              "    .dataframe thead th {\n",
              "        text-align: right;\n",
              "    }\n",
              "</style>\n",
              "<table border=\"1\" class=\"dataframe\">\n",
              "  <thead>\n",
              "    <tr style=\"text-align: right;\">\n",
              "      <th></th>\n",
              "      <th>count</th>\n",
              "      <th>unique</th>\n",
              "      <th>top</th>\n",
              "      <th>freq</th>\n",
              "    </tr>\n",
              "  </thead>\n",
              "  <tbody>\n",
              "    <tr>\n",
              "      <th>date_recorded</th>\n",
              "      <td>59400</td>\n",
              "      <td>356</td>\n",
              "      <td>2011-03-15</td>\n",
              "      <td>572</td>\n",
              "    </tr>\n",
              "    <tr>\n",
              "      <th>funder</th>\n",
              "      <td>55765</td>\n",
              "      <td>1897</td>\n",
              "      <td>Government Of Tanzania</td>\n",
              "      <td>9084</td>\n",
              "    </tr>\n",
              "    <tr>\n",
              "      <th>installer</th>\n",
              "      <td>55745</td>\n",
              "      <td>2145</td>\n",
              "      <td>DWE</td>\n",
              "      <td>17402</td>\n",
              "    </tr>\n",
              "    <tr>\n",
              "      <th>wpt_name</th>\n",
              "      <td>59400</td>\n",
              "      <td>37400</td>\n",
              "      <td>none</td>\n",
              "      <td>3563</td>\n",
              "    </tr>\n",
              "    <tr>\n",
              "      <th>basin</th>\n",
              "      <td>59400</td>\n",
              "      <td>9</td>\n",
              "      <td>Lake Victoria</td>\n",
              "      <td>10248</td>\n",
              "    </tr>\n",
              "    <tr>\n",
              "      <th>subvillage</th>\n",
              "      <td>59029</td>\n",
              "      <td>19287</td>\n",
              "      <td>Madukani</td>\n",
              "      <td>508</td>\n",
              "    </tr>\n",
              "    <tr>\n",
              "      <th>region</th>\n",
              "      <td>59400</td>\n",
              "      <td>21</td>\n",
              "      <td>Iringa</td>\n",
              "      <td>5294</td>\n",
              "    </tr>\n",
              "    <tr>\n",
              "      <th>lga</th>\n",
              "      <td>59400</td>\n",
              "      <td>125</td>\n",
              "      <td>Njombe</td>\n",
              "      <td>2503</td>\n",
              "    </tr>\n",
              "    <tr>\n",
              "      <th>ward</th>\n",
              "      <td>59400</td>\n",
              "      <td>2092</td>\n",
              "      <td>Igosi</td>\n",
              "      <td>307</td>\n",
              "    </tr>\n",
              "    <tr>\n",
              "      <th>public_meeting</th>\n",
              "      <td>56066</td>\n",
              "      <td>2</td>\n",
              "      <td>True</td>\n",
              "      <td>51011</td>\n",
              "    </tr>\n",
              "    <tr>\n",
              "      <th>recorded_by</th>\n",
              "      <td>59400</td>\n",
              "      <td>1</td>\n",
              "      <td>GeoData Consultants Ltd</td>\n",
              "      <td>59400</td>\n",
              "    </tr>\n",
              "    <tr>\n",
              "      <th>scheme_management</th>\n",
              "      <td>55523</td>\n",
              "      <td>12</td>\n",
              "      <td>VWC</td>\n",
              "      <td>36793</td>\n",
              "    </tr>\n",
              "    <tr>\n",
              "      <th>scheme_name</th>\n",
              "      <td>31234</td>\n",
              "      <td>2696</td>\n",
              "      <td>K</td>\n",
              "      <td>682</td>\n",
              "    </tr>\n",
              "    <tr>\n",
              "      <th>permit</th>\n",
              "      <td>56344</td>\n",
              "      <td>2</td>\n",
              "      <td>True</td>\n",
              "      <td>38852</td>\n",
              "    </tr>\n",
              "    <tr>\n",
              "      <th>extraction_type</th>\n",
              "      <td>59400</td>\n",
              "      <td>18</td>\n",
              "      <td>gravity</td>\n",
              "      <td>26780</td>\n",
              "    </tr>\n",
              "    <tr>\n",
              "      <th>extraction_type_group</th>\n",
              "      <td>59400</td>\n",
              "      <td>13</td>\n",
              "      <td>gravity</td>\n",
              "      <td>26780</td>\n",
              "    </tr>\n",
              "    <tr>\n",
              "      <th>extraction_type_class</th>\n",
              "      <td>59400</td>\n",
              "      <td>7</td>\n",
              "      <td>gravity</td>\n",
              "      <td>26780</td>\n",
              "    </tr>\n",
              "    <tr>\n",
              "      <th>management</th>\n",
              "      <td>59400</td>\n",
              "      <td>12</td>\n",
              "      <td>vwc</td>\n",
              "      <td>40507</td>\n",
              "    </tr>\n",
              "    <tr>\n",
              "      <th>management_group</th>\n",
              "      <td>59400</td>\n",
              "      <td>5</td>\n",
              "      <td>user-group</td>\n",
              "      <td>52490</td>\n",
              "    </tr>\n",
              "    <tr>\n",
              "      <th>payment</th>\n",
              "      <td>59400</td>\n",
              "      <td>7</td>\n",
              "      <td>never pay</td>\n",
              "      <td>25348</td>\n",
              "    </tr>\n",
              "    <tr>\n",
              "      <th>payment_type</th>\n",
              "      <td>59400</td>\n",
              "      <td>7</td>\n",
              "      <td>never pay</td>\n",
              "      <td>25348</td>\n",
              "    </tr>\n",
              "    <tr>\n",
              "      <th>water_quality</th>\n",
              "      <td>59400</td>\n",
              "      <td>8</td>\n",
              "      <td>soft</td>\n",
              "      <td>50818</td>\n",
              "    </tr>\n",
              "    <tr>\n",
              "      <th>quality_group</th>\n",
              "      <td>59400</td>\n",
              "      <td>6</td>\n",
              "      <td>good</td>\n",
              "      <td>50818</td>\n",
              "    </tr>\n",
              "    <tr>\n",
              "      <th>quantity</th>\n",
              "      <td>59400</td>\n",
              "      <td>5</td>\n",
              "      <td>enough</td>\n",
              "      <td>33186</td>\n",
              "    </tr>\n",
              "    <tr>\n",
              "      <th>quantity_group</th>\n",
              "      <td>59400</td>\n",
              "      <td>5</td>\n",
              "      <td>enough</td>\n",
              "      <td>33186</td>\n",
              "    </tr>\n",
              "    <tr>\n",
              "      <th>source</th>\n",
              "      <td>59400</td>\n",
              "      <td>10</td>\n",
              "      <td>spring</td>\n",
              "      <td>17021</td>\n",
              "    </tr>\n",
              "    <tr>\n",
              "      <th>source_type</th>\n",
              "      <td>59400</td>\n",
              "      <td>7</td>\n",
              "      <td>spring</td>\n",
              "      <td>17021</td>\n",
              "    </tr>\n",
              "    <tr>\n",
              "      <th>source_class</th>\n",
              "      <td>59400</td>\n",
              "      <td>3</td>\n",
              "      <td>groundwater</td>\n",
              "      <td>45794</td>\n",
              "    </tr>\n",
              "    <tr>\n",
              "      <th>waterpoint_type</th>\n",
              "      <td>59400</td>\n",
              "      <td>7</td>\n",
              "      <td>communal standpipe</td>\n",
              "      <td>28522</td>\n",
              "    </tr>\n",
              "    <tr>\n",
              "      <th>waterpoint_type_group</th>\n",
              "      <td>59400</td>\n",
              "      <td>6</td>\n",
              "      <td>communal standpipe</td>\n",
              "      <td>34625</td>\n",
              "    </tr>\n",
              "    <tr>\n",
              "      <th>status_group</th>\n",
              "      <td>59400</td>\n",
              "      <td>3</td>\n",
              "      <td>functional</td>\n",
              "      <td>32259</td>\n",
              "    </tr>\n",
              "  </tbody>\n",
              "</table>\n",
              "</div>"
            ],
            "text/plain": [
              "                       count unique                      top   freq\n",
              "date_recorded          59400    356               2011-03-15    572\n",
              "funder                 55765   1897   Government Of Tanzania   9084\n",
              "installer              55745   2145                      DWE  17402\n",
              "wpt_name               59400  37400                     none   3563\n",
              "basin                  59400      9            Lake Victoria  10248\n",
              "subvillage             59029  19287                 Madukani    508\n",
              "region                 59400     21                   Iringa   5294\n",
              "lga                    59400    125                   Njombe   2503\n",
              "ward                   59400   2092                    Igosi    307\n",
              "public_meeting         56066      2                     True  51011\n",
              "recorded_by            59400      1  GeoData Consultants Ltd  59400\n",
              "scheme_management      55523     12                      VWC  36793\n",
              "scheme_name            31234   2696                        K    682\n",
              "permit                 56344      2                     True  38852\n",
              "extraction_type        59400     18                  gravity  26780\n",
              "extraction_type_group  59400     13                  gravity  26780\n",
              "extraction_type_class  59400      7                  gravity  26780\n",
              "management             59400     12                      vwc  40507\n",
              "management_group       59400      5               user-group  52490\n",
              "payment                59400      7                never pay  25348\n",
              "payment_type           59400      7                never pay  25348\n",
              "water_quality          59400      8                     soft  50818\n",
              "quality_group          59400      6                     good  50818\n",
              "quantity               59400      5                   enough  33186\n",
              "quantity_group         59400      5                   enough  33186\n",
              "source                 59400     10                   spring  17021\n",
              "source_type            59400      7                   spring  17021\n",
              "source_class           59400      3              groundwater  45794\n",
              "waterpoint_type        59400      7       communal standpipe  28522\n",
              "waterpoint_type_group  59400      6       communal standpipe  34625\n",
              "status_group           59400      3               functional  32259"
            ]
          },
          "metadata": {
            "tags": []
          },
          "execution_count": 9
        }
      ]
    },
    {
      "cell_type": "code",
      "metadata": {
        "id": "vQMQTg0_Zfvd",
        "colab_type": "code",
        "colab": {
          "base_uri": "https://localhost:8080/",
          "height": 854
        },
        "outputId": "32a55298-8120-44ec-c3db-bbb19faa9ceb"
      },
      "source": [
        "train.info()"
      ],
      "execution_count": 10,
      "outputs": [
        {
          "output_type": "stream",
          "text": [
            "<class 'pandas.core.frame.DataFrame'>\n",
            "Int64Index: 59400 entries, 0 to 59399\n",
            "Data columns (total 41 columns):\n",
            "id                       59400 non-null int64\n",
            "amount_tsh               59400 non-null float64\n",
            "date_recorded            59400 non-null object\n",
            "funder                   55765 non-null object\n",
            "gps_height               59400 non-null int64\n",
            "installer                55745 non-null object\n",
            "longitude                59400 non-null float64\n",
            "latitude                 59400 non-null float64\n",
            "wpt_name                 59400 non-null object\n",
            "num_private              59400 non-null int64\n",
            "basin                    59400 non-null object\n",
            "subvillage               59029 non-null object\n",
            "region                   59400 non-null object\n",
            "region_code              59400 non-null int64\n",
            "district_code            59400 non-null int64\n",
            "lga                      59400 non-null object\n",
            "ward                     59400 non-null object\n",
            "population               59400 non-null int64\n",
            "public_meeting           56066 non-null object\n",
            "recorded_by              59400 non-null object\n",
            "scheme_management        55523 non-null object\n",
            "scheme_name              31234 non-null object\n",
            "permit                   56344 non-null object\n",
            "construction_year        59400 non-null int64\n",
            "extraction_type          59400 non-null object\n",
            "extraction_type_group    59400 non-null object\n",
            "extraction_type_class    59400 non-null object\n",
            "management               59400 non-null object\n",
            "management_group         59400 non-null object\n",
            "payment                  59400 non-null object\n",
            "payment_type             59400 non-null object\n",
            "water_quality            59400 non-null object\n",
            "quality_group            59400 non-null object\n",
            "quantity                 59400 non-null object\n",
            "quantity_group           59400 non-null object\n",
            "source                   59400 non-null object\n",
            "source_type              59400 non-null object\n",
            "source_class             59400 non-null object\n",
            "waterpoint_type          59400 non-null object\n",
            "waterpoint_type_group    59400 non-null object\n",
            "status_group             59400 non-null object\n",
            "dtypes: float64(3), int64(7), object(31)\n",
            "memory usage: 19.0+ MB\n"
          ],
          "name": "stdout"
        }
      ]
    },
    {
      "cell_type": "code",
      "metadata": {
        "id": "aAekY8_igCw_",
        "colab_type": "code",
        "colab": {}
      },
      "source": [
        "int_cols = train.select_dtypes(['int']).columns.tolist()\n",
        "float_cols = train.select_dtypes(['float']).columns.tolist()"
      ],
      "execution_count": 0,
      "outputs": []
    },
    {
      "cell_type": "markdown",
      "metadata": {
        "id": "acBM8bpoW9Q7",
        "colab_type": "text"
      },
      "source": [
        "##Pre-processing"
      ]
    },
    {
      "cell_type": "code",
      "metadata": {
        "id": "-dG_mIubXCfV",
        "colab_type": "code",
        "colab": {}
      },
      "source": [
        "from sklearn.pipeline import make_pipeline\n",
        "from sklearn.impute import SimpleImputer\n",
        "from sklearn.model_selection import train_test_split\n",
        "\n",
        "#pre_pipe = make_pipeline(SimpleImputer(strategy='most_frequent'),\n",
        "#                        ce.BinaryEncoder())"
      ],
      "execution_count": 0,
      "outputs": []
    },
    {
      "cell_type": "code",
      "metadata": {
        "id": "oB8pN2nxZ5Nd",
        "colab_type": "code",
        "colab": {}
      },
      "source": [
        "#split train data into train and validation:\n",
        "\n",
        "target = 'status_group'\n",
        "X = train.drop(columns=target)\n",
        "y = train[target]\n",
        "\n",
        "X_train, X_val, y_train, y_val = train_test_split(X, y, test_size=.2, \n",
        "                                                  random_state=42, stratify=y)"
      ],
      "execution_count": 0,
      "outputs": []
    },
    {
      "cell_type": "code",
      "metadata": {
        "id": "APLS-a1CUrYX",
        "colab_type": "code",
        "colab": {}
      },
      "source": [
        "#categorical NaNs, we'll fill NaNs w/ the mode for that feature:\n",
        "cols = X_train.columns\n",
        "imp = SimpleImputer(strategy='most_frequent')\n",
        "\n",
        "X_train = pd.DataFrame(imp.fit_transform(X_train), columns=cols)\n",
        "X_val = pd.DataFrame(imp.transform(X_val), columns=cols)\n",
        "\n",
        "#restore dtypes:\n",
        "for col in int_cols:\n",
        "  X_train[col] = X_train[col].astype('int')\n",
        "  X_val[col] = X_val[col].astype('int')  \n",
        "    \n",
        "for col in float_cols:\n",
        "  X_train[col] = X_train[col].astype('float')\n",
        "  X_val[col] = X_val[col].astype('float')\n",
        "  \n",
        "#convert date to datetime, split into day/month/year, and drop the dt col:\n",
        "def date_recorded_wrangle(X):\n",
        "  X = X.copy()\n",
        "  X['date_recorded'] = pd.to_datetime(X['date_recorded'], infer_datetime_format=True)\n",
        "  X['date_recorded_month'] = X['date_recorded'].dt.month.astype('object')\n",
        "  X['date_recorded_year'] = X['date_recorded'].dt.year.astype('object')\n",
        "  X['date_recorded_day'] = X['date_recorded'].dt.day.astype('object')\n",
        "  X = X.drop(columns='date_recorded')\n",
        "  return X\n",
        "  \n",
        "X_train = date_recorded_wrangle(X_train)\n",
        "X_val = date_recorded_wrangle(X_val)\n",
        "\n",
        "#25-30 secs"
      ],
      "execution_count": 0,
      "outputs": []
    },
    {
      "cell_type": "code",
      "metadata": {
        "id": "NNy-Q_owZEEb",
        "colab_type": "code",
        "colab": {}
      },
      "source": [
        "#Binary categorical encoding due to high ordinality:\n",
        "\n",
        "cat_cols = X_train.select_dtypes(['object']).columns.tolist()\n",
        "\n",
        "binary_ce = ce.BinaryEncoder(cols=cat_cols, verbose=10, return_df=True)\n",
        "\n",
        "X_train = binary_ce.fit_transform(X_train)\n",
        "X_val = binary_ce.transform(X_val)\n",
        "\n",
        "#10 secs"
      ],
      "execution_count": 0,
      "outputs": []
    },
    {
      "cell_type": "markdown",
      "metadata": {
        "id": "SPvbw5X3UmXp",
        "colab_type": "text"
      },
      "source": [
        "##Establish a baseline:"
      ]
    },
    {
      "cell_type": "markdown",
      "metadata": {
        "id": "WNJcPJOfo1Vm",
        "colab_type": "text"
      },
      "source": [
        "First, lets try Logistic Regression:"
      ]
    },
    {
      "cell_type": "code",
      "metadata": {
        "id": "4HhMH-P7Qedm",
        "colab_type": "code",
        "colab": {
          "base_uri": "https://localhost:8080/",
          "height": 35
        },
        "outputId": "a06bc981-6db5-48c6-9e0d-03bbd792399d"
      },
      "source": [
        "from sklearn.linear_model import LogisticRegression\n",
        "\n",
        "model = LogisticRegression(solver='lbfgs', multi_class='auto', n_jobs=-1, \n",
        "                           max_iter=1000, random_state=42)\n",
        "model.fit(X_train, y_train)\n",
        "model.score(X_val, y_val)"
      ],
      "execution_count": 16,
      "outputs": [
        {
          "output_type": "execute_result",
          "data": {
            "text/plain": [
              "0.553956228956229"
            ]
          },
          "metadata": {
            "tags": []
          },
          "execution_count": 16
        }
      ]
    },
    {
      "cell_type": "markdown",
      "metadata": {
        "id": "LDhujgixo8Av",
        "colab_type": "text"
      },
      "source": [
        "Hmmm, not so great: lets try w/ a DecisionTreeClassifier:"
      ]
    },
    {
      "cell_type": "code",
      "metadata": {
        "id": "pamgZslEnePg",
        "colab_type": "code",
        "colab": {
          "base_uri": "https://localhost:8080/",
          "height": 35
        },
        "outputId": "ec13baac-d4fe-42b1-aadb-dd12eed86e08"
      },
      "source": [
        "from sklearn.tree import DecisionTreeClassifier\n",
        "\n",
        "tree = DecisionTreeClassifier(max_depth=15, random_state=42)\n",
        "tree.fit(X_train, y_train)\n",
        "tree.score(X_val, y_val)"
      ],
      "execution_count": 17,
      "outputs": [
        {
          "output_type": "execute_result",
          "data": {
            "text/plain": [
              "0.7606060606060606"
            ]
          },
          "metadata": {
            "tags": []
          },
          "execution_count": 17
        }
      ]
    },
    {
      "cell_type": "markdown",
      "metadata": {
        "id": "OH48Gp8TpcrH",
        "colab_type": "text"
      },
      "source": [
        "OK cool, 76% is a great baseline: lets try on the test data and submit to the leaderboard:\n"
      ]
    },
    {
      "cell_type": "code",
      "metadata": {
        "id": "RQq3oJzsodh9",
        "colab_type": "code",
        "colab": {}
      },
      "source": [
        "sample_submission = pd.read_csv(sample_submission_url)\n",
        "sample_submission"
      ],
      "execution_count": 0,
      "outputs": []
    },
    {
      "cell_type": "code",
      "metadata": {
        "id": "CCG7PFYqqbw2",
        "colab_type": "code",
        "colab": {}
      },
      "source": [
        "#First impute our Nans on the test data:\n",
        "X_test = pd.DataFrame(imp.transform(test), columns=cols)\n",
        "\n",
        "#restore dtypes:\n",
        "for col in int_cols:\n",
        "  X_test[col] = X_test[col].astype('int')\n",
        "    \n",
        "for col in float_cols:\n",
        "  X_test[col] = X_test[col].astype('float')\n",
        "\n",
        "#wrangle the date_recorded col:  \n",
        "X_test = date_recorded_wrangle(X_test)\n",
        "\n",
        "#encode the categorical cols:\n",
        "X_test = binary_ce.transform(X_test)"
      ],
      "execution_count": 0,
      "outputs": []
    },
    {
      "cell_type": "code",
      "metadata": {
        "id": "kIjdfMn1qAfA",
        "colab_type": "code",
        "colab": {
          "base_uri": "https://localhost:8080/",
          "height": 35
        },
        "outputId": "525e5ca7-52d0-4382-f1d9-bafb360400fb"
      },
      "source": [
        "#check to confirm X_train and X_test have same shape:\n",
        "X_test.shape, X_train.shape"
      ],
      "execution_count": 22,
      "outputs": [
        {
          "output_type": "execute_result",
          "data": {
            "text/plain": [
              "((14358, 204), (47520, 204))"
            ]
          },
          "metadata": {
            "tags": []
          },
          "execution_count": 22
        }
      ]
    },
    {
      "cell_type": "code",
      "metadata": {
        "id": "UGiSV-KBrot1",
        "colab_type": "code",
        "colab": {}
      },
      "source": [
        "#use our tree to generate predictions using the X_test data:\n",
        "\n",
        "y_pred = tree.predict(X_test)\n",
        "submission = sample_submission.copy()\n",
        "submission['status_group'] = y_pred\n",
        "submission.to_csv('baseline_DTC.csv', index=False)"
      ],
      "execution_count": 0,
      "outputs": []
    },
    {
      "cell_type": "code",
      "metadata": {
        "id": "P2Ga471Fsl3P",
        "colab_type": "code",
        "colab": {}
      },
      "source": [
        "from google.colab import files\n",
        "files.download('baseline_DTC.csv') "
      ],
      "execution_count": 0,
      "outputs": []
    },
    {
      "cell_type": "markdown",
      "metadata": {
        "id": "UNZd4Bv97V1w",
        "colab_type": "text"
      },
      "source": [
        "##RandomForest"
      ]
    },
    {
      "cell_type": "code",
      "metadata": {
        "id": "rCMCCa1u7XR6",
        "colab_type": "code",
        "colab": {
          "base_uri": "https://localhost:8080/",
          "height": 35
        },
        "outputId": "6035cf18-e136-400d-874f-f782ced9d201"
      },
      "source": [
        "from sklearn.ensemble import RandomForestClassifier\n",
        "\n",
        "forest = RandomForestClassifier(n_jobs=-1, random_state=42, max_depth=30, n_estimators=100)\n",
        "forest.fit(X_train, y_train)\n",
        "forest.score(X_val, y_val)"
      ],
      "execution_count": 87,
      "outputs": [
        {
          "output_type": "execute_result",
          "data": {
            "text/plain": [
              "0.8141414141414142"
            ]
          },
          "metadata": {
            "tags": []
          },
          "execution_count": 87
        }
      ]
    },
    {
      "cell_type": "markdown",
      "metadata": {
        "id": "_YQ3-JQUxzjL",
        "colab_type": "text"
      },
      "source": [
        "##XGBClassifier"
      ]
    },
    {
      "cell_type": "code",
      "metadata": {
        "id": "DqXbS31qxaHC",
        "colab_type": "code",
        "colab": {
          "base_uri": "https://localhost:8080/",
          "height": 163
        },
        "outputId": "616dfc04-b067-4ca4-dec7-89f7bb9f61e3"
      },
      "source": [
        "import xgboost as xgb\n",
        "\n",
        "xgb = xgb.XGBClassifier(verbosity=2, n_jobs=-1, random_state=42, n_estimators=50, max_depth=15, \n",
        "                        num_class=3, objective='multi:softmax', booster='gbtree')\n",
        "\n",
        "xgb.fit(X_train, y_train)"
      ],
      "execution_count": 91,
      "outputs": [
        {
          "output_type": "execute_result",
          "data": {
            "text/plain": [
              "XGBClassifier(base_score=0.5, booster='gbtree', colsample_bylevel=1,\n",
              "       colsample_bytree=1, eval_metric='merror', gamma=0,\n",
              "       learning_rate=0.1, max_delta_step=0, max_depth=15, maximize=False,\n",
              "       min_child_weight=1, missing=None, n_estimators=50, n_jobs=-1,\n",
              "       nrounds='min.error.idx', nthread=None, num_class=3,\n",
              "       objective='multi:softprob', random_state=42, reg_alpha=0,\n",
              "       reg_lambda=1, scale_pos_weight=1, seed=None, silent=True,\n",
              "       subsample=1, verbosity=2)"
            ]
          },
          "metadata": {
            "tags": []
          },
          "execution_count": 91
        }
      ]
    },
    {
      "cell_type": "code",
      "metadata": {
        "id": "mv41mzdj0zQ7",
        "colab_type": "code",
        "colab": {
          "base_uri": "https://localhost:8080/",
          "height": 35
        },
        "outputId": "de8ad3f5-ea78-4d05-bbb4-ed5cd3ec8125"
      },
      "source": [
        "from sklearn.metrics import accuracy_score\n",
        "\n",
        "xgb_y_val_pred = xgb.predict(X_val)\n",
        "accuracy_score(y_val, xgb_y_val_pred)"
      ],
      "execution_count": 92,
      "outputs": [
        {
          "output_type": "execute_result",
          "data": {
            "text/plain": [
              "0.80496632996633"
            ]
          },
          "metadata": {
            "tags": []
          },
          "execution_count": 92
        }
      ]
    },
    {
      "cell_type": "markdown",
      "metadata": {
        "id": "pB_AgHf__Wt3",
        "colab_type": "text"
      },
      "source": [
        "##Submission #2: random_forest"
      ]
    },
    {
      "cell_type": "code",
      "metadata": {
        "id": "zSqUU49A_Var",
        "colab_type": "code",
        "colab": {}
      },
      "source": [
        "forest_y_pred = forest.predict(X_test)\n",
        "submission = sample_submission.copy()\n",
        "submission['status_group'] = forest_y_pred\n",
        "submission.to_csv('baseline_RF.csv', index=False)"
      ],
      "execution_count": 0,
      "outputs": []
    },
    {
      "cell_type": "code",
      "metadata": {
        "id": "BZCfkJmS_YZp",
        "colab_type": "code",
        "colab": {}
      },
      "source": [
        "from google.colab import files\n",
        "files.download('baseline_RF.csv') "
      ],
      "execution_count": 0,
      "outputs": []
    }
  ]
}